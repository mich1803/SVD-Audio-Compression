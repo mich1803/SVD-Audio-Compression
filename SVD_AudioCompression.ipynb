{
  "cells": [
    {
      "cell_type": "markdown",
      "source": [
        "# SVD for Audio Compression"
      ],
      "metadata": {
        "id": "YdSLxkHN5a9B"
      }
    },
    {
      "cell_type": "code",
      "execution_count": 1,
      "metadata": {
        "id": "QgMdkkORvLol",
        "cellView": "form"
      },
      "outputs": [],
      "source": [
        "#@title import dependecies\n",
        "import numpy as np\n",
        "import librosa\n",
        "import librosa.display\n",
        "import matplotlib.pyplot as plt\n",
        "import IPython.display as ipd\n",
        "from tqdm import tqdm"
      ]
    },
    {
      "cell_type": "markdown",
      "source": [
        "## Representing Audio as Images (*Spectrograms*)"
      ],
      "metadata": {
        "id": "DjLMxCsC5Oa6"
      }
    },
    {
      "cell_type": "code",
      "execution_count": 2,
      "metadata": {
        "id": "vwrtPFAfuGlO"
      },
      "outputs": [],
      "source": [
        "def load_audio(file_path):\n",
        "    # Carica l'audio\n",
        "    audio, sr = librosa.load(file_path, sr=None)\n",
        "    # Riproduci l'audio\n",
        "    return ipd.Audio(data=audio, rate=sr)"
      ]
    },
    {
      "cell_type": "markdown",
      "metadata": {
        "id": "3kpDjl83yD8r"
      },
      "source": [
        "### **Short-Time Fourier Transform (STFT)**"
      ]
    },
    {
      "cell_type": "markdown",
      "source": [
        "The Short-Time Fourier Transform (STFT) is a fundamental technique in signal processing for analyzing the frequency content of a signal over time. It provides a time-frequency representation of the signal, which is particularly useful for non-stationary signals whose frequency content changes over time.\n",
        "\n",
        "---\n",
        "\n",
        "**How STFT Works**\n",
        "\n",
        "1. **Windowing**:\n",
        "   - The audio signal is divided into overlapping segments or frames using a window function (e.g., Hamming or Hann window).\n",
        "   - Each segment is multiplied by the window function to minimize edge effects and to isolate a small portion of the signal.\n",
        "\n",
        "2. **Fourier Transform**:\n",
        "   - The Fourier Transform is applied to each windowed segment to convert it from the time domain to the frequency domain.\n",
        "   - This process results in a complex spectrum for each segment, capturing both amplitude (magnitude) and phase information.\n",
        "\n",
        "3. **Combining Spectra**:\n",
        "   - The spectra from all segments are combined to form a 2D representation: the STFT matrix.\n",
        "   - Each column of the STFT matrix corresponds to the spectrum of a single segment, and each row represents a frequency component over time.\n",
        "\n",
        "---\n",
        "\n",
        "**STFT Representation**\n",
        "\n",
        "- **Magnitude**: The magnitude of the STFT represents the amplitude of different frequency components in each time segment. It is typically visualized as a spectrogram, where the color intensity indicates the amplitude.\n",
        "- **Phase**: The phase of the STFT captures the phase angle of the frequency components, which is essential for reconstructing the original signal.\n",
        "\n",
        "---\n",
        "\n",
        "**References**\n",
        "\n",
        "- [librosa documentation on stft](https://librosa.org/doc/main/generated/librosa.stft.html)\n",
        "- Allen, J.B., & Rabiner, L.R. (1977). A unified approach to short-time Fourier analysis and synthesis. *Proceedings of the IEEE*, 65(11), 1558-1564."
      ],
      "metadata": {
        "id": "jBNoz9ax5_Tz"
      }
    },
    {
      "cell_type": "code",
      "execution_count": 3,
      "metadata": {
        "id": "fWvOq1hqvEgk"
      },
      "outputs": [],
      "source": [
        "def create_spectrogram(file_path):\n",
        "    # Carica l'audio\n",
        "    audio, sr = librosa.load(file_path, sr=None)\n",
        "    # Calcola la STFT (Spettrogramma)\n",
        "    stft = librosa.stft(audio)\n",
        "    magnitude = np.abs(stft)\n",
        "    phase = np.angle(stft)\n",
        "    return magnitude, phase, sr\n",
        "\n",
        "# Funzione per visualizzare lo spettrogramma\n",
        "def plot_spectrogram(magnitude, sr):\n",
        "    plt.figure(figsize=(10, 4))\n",
        "    librosa.display.specshow(librosa.amplitude_to_db(magnitude, ref=np.max), sr=sr, x_axis='time', y_axis='log')\n",
        "    plt.colorbar(format='%+2.0f dB')\n",
        "    plt.title('Spettrogramma')\n",
        "    plt.tight_layout()\n",
        "    plt.show()"
      ]
    },
    {
      "cell_type": "markdown",
      "metadata": {
        "id": "dnIEughx1kDj"
      },
      "source": [
        "### **Griffin-Lim Algorithm**"
      ]
    },
    {
      "cell_type": "markdown",
      "source": [
        "The Griffin-Lim algorithm is a widely used iterative method for phase reconstruction in audio processing. It converts a magnitude spectrogram (i.e., the magnitude of the Short-Time Fourier Transform or STFT) back into an audio waveform. Since the STFT of an audio signal is complex-valued, it includes both magnitude and phase information. However, if only the magnitude is available, the phase needs to be estimated to reconstruct the audio signal. Griffin-Lim iteratively refines the phase estimates to minimize the error between the target magnitude spectrogram and the spectrogram of the reconstructed signal.\n",
        "\n",
        "---\n",
        "\n",
        "**How Griffin-Lim Works**\n",
        "\n",
        "1. **Initialization**:\n",
        "   - Start with an initial guess of the phase, which is typically random or zeros.\n",
        "   - Combine the initial phase with the given magnitude to form the initial complex spectrogram.\n",
        "\n",
        "2. **Iterative Phase Refinement**:\n",
        "   - In each iteration:\n",
        "     1. **Inverse STFT**: Perform an inverse Short-Time Fourier Transform (iSTFT) on the current complex spectrogram to get a time-domain signal.\n",
        "     2. **STFT**: Compute the STFT of the resulting time-domain signal.\n",
        "     3. **Update Phase**: Replace the magnitude of the STFT with the original magnitude while keeping the new phase.\n",
        "   - Repeat this process for a specified number of iterations to progressively refine the phase.\n",
        "\n",
        "3. **Final Audio Reconstruction**:\n",
        "   - After the iterations, perform a final iSTFT to obtain the reconstructed audio signal.\n",
        "\n",
        "---\n",
        "\n",
        "**References**\n",
        "\n",
        "- Griffin, D., & Lim, J. (1984). Signal estimation from modified short-time Fourier transform. *IEEE Transactions on Acoustics, Speech, and Signal Processing*, 32(2), 236-243.\n",
        "- [librosa documentation on griffinlim](https://librosa.org/doc/main/generated/librosa.griffinlim.html)"
      ],
      "metadata": {
        "id": "CdNHaZX86Neh"
      }
    },
    {
      "cell_type": "code",
      "execution_count": 11,
      "metadata": {
        "id": "qsqYdWLUvHn3"
      },
      "outputs": [],
      "source": [
        "def spectrogram2audio(magnitude, sr, n_iter=32):\n",
        "    # Ricostruisci l'audio utilizzando l'algoritmo Griffin-Lim\n",
        "    audio = librosa.griffinlim(magnitude, n_iter=n_iter)\n",
        "    return audio\n",
        "\n",
        "def play_from_spectrogram(magnitude, sr, n_iter=32):\n",
        "    audio = spectrogram2audio(magnitude, sr, n_iter)\n",
        "    return ipd.Audio(data=audio, rate=sr)"
      ]
    },
    {
      "cell_type": "markdown",
      "source": [
        "###Example of conversion"
      ],
      "metadata": {
        "id": "OCO7Qe_c6x1W"
      }
    },
    {
      "cell_type": "code",
      "source": [
        "# audio example from the github repo\n",
        "!wget -O audio.wav 'https://raw.githubusercontent.com/mich1803/SVD-Audio-Compression/main/example%20songs%20to%20convert/Tory%20Lanez%20-%20Lavender%20Sunflower.wav'\n",
        "filepath = 'audio.wav' #change this if you want to change song"
      ],
      "metadata": {
        "id": "TwEACeIZ0UJJ"
      },
      "execution_count": null,
      "outputs": []
    },
    {
      "cell_type": "code",
      "source": [
        "load_audio(filepath)"
      ],
      "metadata": {
        "id": "57XJNoi2cbUf"
      },
      "execution_count": null,
      "outputs": []
    },
    {
      "cell_type": "code",
      "execution_count": null,
      "metadata": {
        "id": "XBHxCNyrxLnW"
      },
      "outputs": [],
      "source": [
        "spec, _, sr = create_spectrogram(filepath)\n",
        "plot_spectrogram(spec, sr)"
      ]
    },
    {
      "cell_type": "code",
      "execution_count": null,
      "metadata": {
        "id": "FLldLhjxxakf"
      },
      "outputs": [],
      "source": [
        "play_from_spectrogram(spec, sr)"
      ]
    },
    {
      "cell_type": "markdown",
      "metadata": {
        "id": "QCFXjuKUzgpr"
      },
      "source": [
        "##SVD Compression"
      ]
    },
    {
      "cell_type": "markdown",
      "source": [
        "We can compress an image with SVD by decomposing it into three matrices:  $U$ ,  $\\Sigma$ , and  $V^T$ . The matrix  $\\Sigma$  contains singular values that represent the importance of each corresponding component in  $U$  and  $V^T$ . By keeping only the largest singular values and truncating the smaller ones, we can reconstruct a lower-rank approximation of the original image. This reduces the data size while retaining most of the image’s visual information.\n",
        "\n",
        "We will apply this technique to spectrograms, which are essentially images representing the frequency spectrum of signals over time."
      ],
      "metadata": {
        "id": "Jezx5mLI8zVf"
      }
    },
    {
      "cell_type": "code",
      "execution_count": 17,
      "metadata": {
        "id": "zs3M2IOkzhTy"
      },
      "outputs": [],
      "source": [
        "def svd_compression(spettro, comp):\n",
        "    \"\"\"\n",
        "    Compress a spectrogram using SVD.\n",
        "\n",
        "    Args:\n",
        "        spectrogram (numpy.ndarray): The spectrogram to compress.\n",
        "        num_components (int): Number of singular values to retain.\n",
        "\n",
        "    Returns:\n",
        "        u, s, v (numpy.ndarray): Reduced SVD decomposition matrices.\n",
        "    \"\"\"\n",
        "    U, S, Vt = np.linalg.svd(spettro, full_matrices=False)\n",
        "    U = U[:, :comp]\n",
        "    S = np.diag(S[:comp])\n",
        "    Vt = Vt[:comp, :]\n",
        "    return U, S, Vt"
      ]
    },
    {
      "cell_type": "code",
      "source": [
        "def svd2spectrogram(U, S, Vt):\n",
        "    \"\"\"\n",
        "    Recreate a compressed spectrogram from SVD components.\n",
        "\n",
        "    Args:\n",
        "        U (numpy.ndarray): Reduced U matrix.\n",
        "        S (numpy.ndarray): Reduced diagonal S matrix.\n",
        "        Vt (numpy.ndarray): Reduced transposed V matrix.\n",
        "\n",
        "    Returns:\n",
        "        numpy.ndarray: Compressed spectrogram.\n",
        "    \"\"\"\n",
        "    return np.dot(U, np.dot(S, Vt))"
      ],
      "metadata": {
        "id": "nt7uHdgH836a"
      },
      "execution_count": 18,
      "outputs": []
    },
    {
      "cell_type": "markdown",
      "source": [
        "### Testing with different components"
      ],
      "metadata": {
        "id": "g_gNAEqf9P31"
      }
    },
    {
      "cell_type": "code",
      "execution_count": 19,
      "metadata": {
        "id": "Ib8S4ZyNz7uD",
        "colab": {
          "base_uri": "https://localhost:8080/"
        },
        "outputId": "27875a72-acab-4614-a6e6-e0f409fe8c3a"
      },
      "outputs": [
        {
          "output_type": "stream",
          "name": "stderr",
          "text": [
            "100%|██████████| 5/5 [01:08<00:00, 13.70s/it]\n"
          ]
        }
      ],
      "source": [
        "comps = [5, 50, 100, 250, 500]\n",
        "USV = dict([(c, '') for c in comps])\n",
        "c_spec = dict([(c, '') for c in comps])\n",
        "for c in tqdm(comps):\n",
        "  U, S, Vt = svd_compression(spec, c)\n",
        "  usv = (U, S, Vt)\n",
        "  USV[c] = usv\n",
        "  c_spec[c] = svd2spectrogram(U, S, Vt)"
      ]
    },
    {
      "cell_type": "code",
      "execution_count": null,
      "metadata": {
        "id": "acLrAeiTyD8t"
      },
      "outputs": [],
      "source": [
        "c = 5\n",
        "print(f\"singular values: {c}\")\n",
        "plot_spectrogram(c_spec[c], sr)\n",
        "play_from_spectrogram(c_spec[c], sr)"
      ]
    },
    {
      "cell_type": "code",
      "source": [
        "c = 50\n",
        "print(f\"singular values: {c}\")\n",
        "plot_spectrogram(c_spec[c], sr)\n",
        "play_from_spectrogram(c_spec[c], sr)"
      ],
      "metadata": {
        "id": "1ownUBArgq1h"
      },
      "execution_count": null,
      "outputs": []
    },
    {
      "cell_type": "code",
      "source": [
        "c = 100\n",
        "print(f\"singular values: {c}\")\n",
        "plot_spectrogram(c_spec[c], sr)\n",
        "play_from_spectrogram(c_spec[c], sr)"
      ],
      "metadata": {
        "id": "dr8kZanQgs_L"
      },
      "execution_count": null,
      "outputs": []
    },
    {
      "cell_type": "code",
      "source": [
        "c = 250\n",
        "print(f\"singular values: {c}\")\n",
        "plot_spectrogram(c_spec[c], sr)\n",
        "play_from_spectrogram(c_spec[c], sr)"
      ],
      "metadata": {
        "id": "Vl1hHoV-gvu9"
      },
      "execution_count": null,
      "outputs": []
    },
    {
      "cell_type": "code",
      "source": [
        "c = 500\n",
        "print(f\"singular values: {c}\")\n",
        "plot_spectrogram(c_spec[c], sr)\n",
        "play_from_spectrogram(c_spec[c], sr)"
      ],
      "metadata": {
        "id": "YvzZNAxNgxcl"
      },
      "execution_count": null,
      "outputs": []
    },
    {
      "cell_type": "markdown",
      "metadata": {
        "id": "2zyyen-T2i0a"
      },
      "source": [
        "### Occupied memory"
      ]
    },
    {
      "cell_type": "code",
      "source": [
        "from os import path\n",
        "print(f\"Size of original audio file: {(path.getsize(filepath)/1024):.2f} KB\")\n",
        "print(f\"Size of original spectrogram: {(spec.nbytes/1024):.2f} KB\")\n",
        "for c in USV:\n",
        "  size = sum([USV[c][i].nbytes for i in range(len(USV[c]))])\n",
        "  print(f\"Size of {c} singular values: {(size/1024):.2f} KB\")"
      ],
      "metadata": {
        "colab": {
          "base_uri": "https://localhost:8080/"
        },
        "id": "e2Jd27wog6ep",
        "outputId": "3e657dc5-73a7-4896-d0fd-460902da5add"
      },
      "execution_count": 22,
      "outputs": [
        {
          "output_type": "stream",
          "name": "stdout",
          "text": [
            "Size of original audio file: 28476.22 KB\n",
            "Size of original spectrogram: 57011.62 KB\n",
            "Size of 5 singular values: 298.22 KB\n",
            "Size of 50 singular values: 2991.02 KB\n",
            "Size of 100 singular values: 6001.56 KB\n",
            "Size of 250 singular values: 15150.39 KB\n",
            "Size of 500 singular values: 30789.06 KB\n"
          ]
        }
      ]
    },
    {
      "cell_type": "markdown",
      "source": [
        "The compression of the audio signal using Singular Value Decomposition (SVD) applied to the spectrogram has demonstrated significant efficiency in reducing data size while retaining audio quality. Specifically, retaining 250 singular values offers a substantial reduction in file size—approximately 26.6% of the original spectrogram size—while achieving near-perfect audio reconstruction. This suggests that SVD is highly effective for compressing audio data with minimal loss of quality, striking a favorable balance between compression and fidelity. As the number of singular values increases, the quality of the reconstructed audio improves, approaching that of the original, but with diminishing returns in compression efficiency beyond 250 values."
      ],
      "metadata": {
        "id": "y4b2fCEllQDh"
      }
    },
    {
      "cell_type": "markdown",
      "metadata": {
        "id": "mEtBqWTOyD8u"
      },
      "source": [
        "### Runtime"
      ]
    },
    {
      "cell_type": "code",
      "source": [],
      "metadata": {
        "id": "zvm8aZO3g_Wm"
      },
      "execution_count": null,
      "outputs": []
    }
  ],
  "metadata": {
    "colab": {
      "provenance": []
    },
    "kernelspec": {
      "display_name": "Python 3",
      "name": "python3"
    },
    "language_info": {
      "codemirror_mode": {
        "name": "ipython",
        "version": 3
      },
      "file_extension": ".py",
      "mimetype": "text/x-python",
      "name": "python",
      "nbconvert_exporter": "python",
      "pygments_lexer": "ipython3",
      "version": "3.11.9"
    }
  },
  "nbformat": 4,
  "nbformat_minor": 0
}