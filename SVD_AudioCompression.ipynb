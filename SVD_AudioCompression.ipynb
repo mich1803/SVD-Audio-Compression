{
  "cells": [
    {
      "cell_type": "code",
      "execution_count": 2,
      "metadata": {
        "id": "QgMdkkORvLol"
      },
      "outputs": [],
      "source": [
        "import numpy as np\n",
        "import librosa\n",
        "import librosa.display\n",
        "import matplotlib.pyplot as plt\n",
        "import IPython.display as ipd\n",
        "from tqdm import tqdm"
      ]
    },
    {
      "cell_type": "code",
      "execution_count": null,
      "metadata": {
        "id": "vwrtPFAfuGlO"
      },
      "outputs": [],
      "source": [
        "def carica_e_ascolta_audio(file_path):\n",
        "    # Carica l'audio\n",
        "    audio, sr = librosa.load(file_path, sr=None)\n",
        "    # Riproduci l'audio\n",
        "    return ipd.Audio(data=audio, rate=sr)"
      ]
    },
    {
      "cell_type": "code",
      "execution_count": null,
      "metadata": {
        "id": "fWvOq1hqvEgk"
      },
      "outputs": [],
      "source": [
        "def audio_a_spettrogramma(file_path):\n",
        "    # Carica l'audio\n",
        "    audio, sr = librosa.load(file_path, sr=None)\n",
        "    # Calcola la STFT (Spettrogramma)\n",
        "    stft = librosa.stft(audio)\n",
        "    magnitude = np.abs(stft)\n",
        "    phase = np.angle(stft)\n",
        "    return magnitude, phase, sr\n",
        "\n",
        "# Funzione per visualizzare lo spettrogramma\n",
        "def visualizza_spettrogramma(magnitude, sr):\n",
        "    plt.figure(figsize=(10, 4))\n",
        "    librosa.display.specshow(librosa.amplitude_to_db(magnitude, ref=np.max), sr=sr, x_axis='time', y_axis='log')\n",
        "    plt.colorbar(format='%+2.0f dB')\n",
        "    plt.title('Spettrogramma')\n",
        "    plt.tight_layout()\n",
        "    plt.show()"
      ]
    },
    {
      "cell_type": "markdown",
      "metadata": {},
      "source": [
        "approfondire stft"
      ]
    },
    {
      "cell_type": "code",
      "execution_count": null,
      "metadata": {
        "id": "qsqYdWLUvHn3"
      },
      "outputs": [],
      "source": [
        "def spettrogramma_a_audio(magnitude, sr, n_iter=32):\n",
        "    # Ricostruisci l'audio utilizzando l'algoritmo Griffin-Lim\n",
        "    audio = librosa.griffinlim(magnitude, n_iter=n_iter)\n",
        "    return audio\n",
        "\n",
        "def ascolta_da_spettrogramma(magnitude, sr, n_iter=32):\n",
        "    audio = spettrogramma_a_audio(magnitude, sr, n_iter)\n",
        "    return ipd.Audio(data=audio, rate=sr)"
      ]
    },
    {
      "cell_type": "markdown",
      "metadata": {
        "id": "dnIEughx1kDj"
      },
      "source": [
        "approfondire griffinlim, sarà utile anche dopo per l'SVD"
      ]
    },
    {
      "cell_type": "code",
      "execution_count": null,
      "metadata": {
        "colab": {
          "base_uri": "https://localhost:8080/",
          "height": 75
        },
        "id": "mmm7dntiwuAk",
        "outputId": "61809327-09c0-4aec-d673-2229ad17ee82"
      },
      "outputs": [],
      "source": [
        "filepath = \"example songs to convert/Tory Lanez - Lavender Sunflower.wav\"\n",
        "carica_e_ascolta_audio(filepath)"
      ]
    },
    {
      "cell_type": "code",
      "execution_count": null,
      "metadata": {
        "colab": {
          "base_uri": "https://localhost:8080/",
          "height": 407
        },
        "id": "XBHxCNyrxLnW",
        "outputId": "d396a07a-3d22-43c7-e83e-df2971546ed3"
      },
      "outputs": [],
      "source": [
        "spec, _, sr = audio_a_spettrogramma(filepath)\n",
        "visualizza_spettrogramma(spec, sr)"
      ]
    },
    {
      "cell_type": "code",
      "execution_count": null,
      "metadata": {
        "colab": {
          "base_uri": "https://localhost:8080/",
          "height": 75
        },
        "id": "FLldLhjxxakf",
        "outputId": "79bfc706-c1c6-4ff3-8f36-df4736c032e7"
      },
      "outputs": [],
      "source": [
        "ascolta_da_spettrogramma(spec, sr)"
      ]
    },
    {
      "cell_type": "markdown",
      "metadata": {
        "id": "QCFXjuKUzgpr"
      },
      "source": [
        "SVD"
      ]
    },
    {
      "cell_type": "code",
      "execution_count": null,
      "metadata": {
        "id": "zs3M2IOkzhTy"
      },
      "outputs": [],
      "source": [
        "def comprimi_svd(spettro, comp):\n",
        "    \"\"\"\n",
        "    Comprime uno spettrogramma usando la SVD.\n",
        "\n",
        "    Args:\n",
        "        spettro (numpy.ndarray): Lo spettrogramma da comprimere.\n",
        "        comp (int): Numero di componenti singolari da mantenere.\n",
        "\n",
        "    Returns:\n",
        "        u, s, v (numpy.ndarray): Matrici della decomposizione SVD ridotte.\n",
        "    \"\"\"\n",
        "    U, S, Vt = np.linalg.svd(spettro, full_matrices=False)\n",
        "    U = U[:, :comp]\n",
        "    S = np.diag(S[:comp])\n",
        "    Vt = Vt[:comp, :]\n",
        "    return U, S, Vt\n",
        "\n",
        "def ricrea_spettro_compresso(U, S, Vt):\n",
        "    \"\"\"\n",
        "    Ricrea uno spettrogramma compresso dai componenti SVD.\n",
        "\n",
        "    Args:\n",
        "        U (numpy.ndarray): Matrice U ridotta.\n",
        "        S (numpy.ndarray): Matrice S ridotta (diagonale).\n",
        "        Vt (numpy.ndarray): Matrice V trasposta ridotta.\n",
        "\n",
        "    Returns:\n",
        "        numpy.ndarray: Spettrogramma compresso.\n",
        "    \"\"\"\n",
        "    return np.dot(U, np.dot(S, Vt))"
      ]
    },
    {
      "cell_type": "code",
      "execution_count": null,
      "metadata": {
        "id": "Ib8S4ZyNz7uD"
      },
      "outputs": [],
      "source": [
        "comps = [5, 50, 100, 250, 500]\n",
        "USV = []\n",
        "c_spec = []\n",
        "for c in tqdm(comps):\n",
        "  U, S, Vt = comprimi_svd(spec, c)\n",
        "  usv = (U, S, Vt)\n",
        "  USV.append(usv)\n",
        "  c_spec.append(ricrea_spettro_compresso(U, S, Vt))"
      ]
    },
    {
      "cell_type": "code",
      "execution_count": null,
      "metadata": {},
      "outputs": [],
      "source": [
        "print(f\"componenti: {5}\")\n",
        "visualizza_spettrogramma(c_spec[0], sr)\n",
        "ascolta_da_spettrogramma(c_spec[0], sr)"
      ]
    },
    {
      "cell_type": "code",
      "execution_count": null,
      "metadata": {
        "colab": {
          "base_uri": "https://localhost:8080/",
          "height": 93
        },
        "id": "I6xalIPg20I0",
        "outputId": "574b29b1-72bd-4e1e-c179-faff7e769485"
      },
      "outputs": [],
      "source": [
        "print(f\"componenti: {50}\")\n",
        "visualizza_spettrogramma(c_spec[1], sr)\n",
        "ascolta_da_spettrogramma(c_spec[1], sr)"
      ]
    },
    {
      "cell_type": "code",
      "execution_count": null,
      "metadata": {
        "colab": {
          "base_uri": "https://localhost:8080/",
          "height": 93
        },
        "id": "7DVgTTEi0LbQ",
        "outputId": "407d3af1-b6e9-4189-bcc3-809b082dc8ec"
      },
      "outputs": [],
      "source": [
        "print(f\"componenti: {100}\")\n",
        "visualizza_spettrogramma(c_spec[2], sr)\n",
        "ascolta_da_spettrogramma(c_spec[2], sr)"
      ]
    },
    {
      "cell_type": "code",
      "execution_count": null,
      "metadata": {
        "colab": {
          "base_uri": "https://localhost:8080/",
          "height": 93
        },
        "id": "D18yGpu32yjN",
        "outputId": "335647b5-336e-4799-a692-b32645c9e386"
      },
      "outputs": [],
      "source": [
        "print(f\"componenti: {250}\")\n",
        "visualizza_spettrogramma(c_spec[3], sr)\n",
        "ascolta_da_spettrogramma(c_spec[3], sr)"
      ]
    },
    {
      "cell_type": "code",
      "execution_count": null,
      "metadata": {
        "colab": {
          "base_uri": "https://localhost:8080/",
          "height": 93
        },
        "id": "6KLxShHB2zgU",
        "outputId": "e910d57a-e931-4d93-9e7b-172e1a075d4f"
      },
      "outputs": [],
      "source": [
        "print(f\"componenti: {500}\")\n",
        "visualizza_spettrogramma(c_spec[4], sr)\n",
        "ascolta_da_spettrogramma(c_spec[4], sr)"
      ]
    },
    {
      "cell_type": "markdown",
      "metadata": {
        "id": "2zyyen-T2i0a"
      },
      "source": [
        "aggiungere un qualcosa per far vedere quanto spazio occupano"
      ]
    },
    {
      "cell_type": "markdown",
      "metadata": {},
      "source": [
        "aggiungere qualcosa sul tempo d'esecuzione"
      ]
    },
    {
      "cell_type": "markdown",
      "metadata": {
        "id": "8L4Kt2Iv4DVn"
      },
      "source": [
        "tradurre tutto in inglese"
      ]
    }
  ],
  "metadata": {
    "colab": {
      "provenance": []
    },
    "kernelspec": {
      "display_name": "Python 3",
      "name": "python3"
    },
    "language_info": {
      "codemirror_mode": {
        "name": "ipython",
        "version": 3
      },
      "file_extension": ".py",
      "mimetype": "text/x-python",
      "name": "python",
      "nbconvert_exporter": "python",
      "pygments_lexer": "ipython3",
      "version": "3.11.9"
    }
  },
  "nbformat": 4,
  "nbformat_minor": 0
}
